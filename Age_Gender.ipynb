{
 "cells": [
  {
   "cell_type": "markdown",
   "metadata": {},
   "source": [
    "## VGG16 MODEL for Age and Gender Prediction\n",
    "\n",
    "This notebook contiains the source code used by me for gender and age prediction on the UTKFace dataset.The dataset containes approximately 23k images of people of various ages.There are two ways of implementing the VGG16 model,one using the pretrained weights of the Imagenet dataset on which the model was originally trained and the second one is without these pretrained weights.The ACCURACY metric here is not a good way to check the functioning of the model since if the model predicts the age of a person with an error of +/- 10 percent then also the model is functioning preety well even by medical standards. So for the age prediciton part it is not suitable to just check the model using the accuracy metric."
   ]
  },
  {
   "cell_type": "code",
   "execution_count": 0,
   "metadata": {
    "colab": {},
    "colab_type": "code",
    "id": "lHs_icFvx-EG"
   },
   "outputs": [],
   "source": [
    "import os"
   ]
  },
  {
   "cell_type": "code",
   "execution_count": 166,
   "metadata": {
    "colab": {
     "base_uri": "https://localhost:8080/",
     "height": 34
    },
    "colab_type": "code",
    "id": "JBrubMf7i-pV",
    "outputId": "3ba8da7e-6dfa-4a78-a9a2-dc18f63d8f1b"
   },
   "outputs": [
    {
     "name": "stdout",
     "output_type": "stream",
     "text": [
      "GPU Available\n"
     ]
    }
   ],
   "source": [
    "# GPU usage\n",
    "import tensorflow as tf\n",
    "if tf.test.gpu_device_name():\n",
    "    print('GPU Available')\n",
    "else:\n",
    "    print(\"Please install GPU version of TF\")"
   ]
  },
  {
   "cell_type": "code",
   "execution_count": 5,
   "metadata": {
    "colab": {
     "base_uri": "https://localhost:8080/",
     "height": 34
    },
    "colab_type": "code",
    "id": "gVF8QhM30oz2",
    "outputId": "7a7f8499-a33c-46a3-912d-372488bf4233"
   },
   "outputs": [
    {
     "data": {
      "text/plain": [
       "23708"
      ]
     },
     "execution_count": 5,
     "metadata": {
      "tags": []
     },
     "output_type": "execute_result"
    }
   ],
   "source": [
    "len(os.listdir('/content/UTKFace'))"
   ]
  },
  {
   "cell_type": "code",
   "execution_count": 3,
   "metadata": {
    "colab": {
     "base_uri": "https://localhost:8080/",
     "height": 34
    },
    "colab_type": "code",
    "id": "vx0lzcrJ1FrX",
    "outputId": "a441fde3-c31c-4f90-b5de-e50a66978050"
   },
   "outputs": [
    {
     "name": "stderr",
     "output_type": "stream",
     "text": [
      "Using TensorFlow backend.\n"
     ]
    }
   ],
   "source": [
    "# importing libraries\n",
    "import pandas as pd \n",
    "import numpy as np\n",
    "import matplotlib.pyplot as plt\n",
    "import cv2\n",
    "import os\n",
    "import keras\n",
    "from keras.layers import *\n",
    "from sklearn.model_selection import train_test_split\n",
    "import tensorflow as tf\n",
    "from keras.models import Sequential\n",
    "from keras.optimizers import Adam\n",
    "from keras.models import Model\n",
    "from keras.initializers import glorot_uniform\n",
    "from keras.utils.np_utils import to_categorical\n",
    "from keras.applications.vgg16 import VGG16"
   ]
  },
  {
   "cell_type": "code",
   "execution_count": 0,
   "metadata": {
    "colab": {},
    "colab_type": "code",
    "id": "i3VRQat12TT3"
   },
   "outputs": [],
   "source": [
    "str_file=[]\n",
    "for file in os.listdir('/content/UTKFace'):\n",
    "  str_file.append(file)"
   ]
  },
  {
   "cell_type": "code",
   "execution_count": 6,
   "metadata": {
    "colab": {
     "base_uri": "https://localhost:8080/",
     "height": 34
    },
    "colab_type": "code",
    "id": "1XGqXs-820ze",
    "outputId": "b8aac50d-73a4-4ead-ac9f-78fd1b8fa515"
   },
   "outputs": [
    {
     "data": {
      "text/plain": [
       "'27_1_1_20170116023622621.jpg.chip.jpg'"
      ]
     },
     "execution_count": 6,
     "metadata": {
      "tags": []
     },
     "output_type": "execute_result"
    }
   ],
   "source": [
    "str_file[1]"
   ]
  },
  {
   "cell_type": "code",
   "execution_count": 7,
   "metadata": {
    "colab": {
     "base_uri": "https://localhost:8080/",
     "height": 34
    },
    "colab_type": "code",
    "id": "Or82G4EK2_xl",
    "outputId": "d0017854-09b0-4392-c2e8-30c43859b4bb"
   },
   "outputs": [
    {
     "data": {
      "text/plain": [
       "'27'"
      ]
     },
     "execution_count": 7,
     "metadata": {
      "tags": []
     },
     "output_type": "execute_result"
    }
   ],
   "source": [
    "str_file[1].split('_')[0]"
   ]
  },
  {
   "cell_type": "code",
   "execution_count": 0,
   "metadata": {
    "colab": {},
    "colab_type": "code",
    "id": "Stk6-18i3NL2"
   },
   "outputs": [],
   "source": [
    "# loading the data of the age/gender and images \n",
    "age=[]\n",
    "gender=[]\n",
    "images=[]\n",
    "path='/content/UTKFace'\n",
    "from PIL import Image\n",
    "\n",
    "for filename in str_file:\n",
    "    gender.append(filename.split('_')[1])\n",
    "    age.append(filename.split('_')[0])\n",
    "    img_path=os.path.join(path,filename)\n",
    "    img=cv2.imread(img_path)\n",
    "    img = Image.fromarray(img, 'RGB')\n",
    "    size_image = img.resize((128, 128))\n",
    "    images.append(np.array(size_image))\n"
   ]
  },
  {
   "cell_type": "code",
   "execution_count": 13,
   "metadata": {
    "colab": {
     "base_uri": "https://localhost:8080/",
     "height": 34
    },
    "colab_type": "code",
    "id": "zDww5AuE69fO",
    "outputId": "1d58c3f2-8fa3-4ad3-a414-83f04ffd6263"
   },
   "outputs": [
    {
     "name": "stdout",
     "output_type": "stream",
     "text": [
      "23708 23708\n"
     ]
    }
   ],
   "source": [
    "print(len(age),len(gender))"
   ]
  },
  {
   "cell_type": "code",
   "execution_count": 0,
   "metadata": {
    "colab": {},
    "colab_type": "code",
    "id": "vYvCFo3_7LjB"
   },
   "outputs": [],
   "source": [
    "images=np.array(images)\n",
    "gender=np.array(gender)\n",
    "age=np.array(age)"
   ]
  },
  {
   "cell_type": "code",
   "execution_count": 0,
   "metadata": {
    "colab": {},
    "colab_type": "code",
    "id": "x_aJAF5B8-qp"
   },
   "outputs": [],
   "source": [
    "num_classes1=117 # max_age +1"
   ]
  },
  {
   "cell_type": "code",
   "execution_count": null,
   "metadata": {},
   "outputs": [],
   "source": [
    "# shuffling the dataset.\n",
    "s=np.arange(images.shape[0])\n",
    "np.random.shuffle(s)\n",
    "images=images[s]\n",
    "age=age[s]\n",
    "gender=gender[s]"
   ]
  },
  {
   "cell_type": "code",
   "execution_count": 0,
   "metadata": {
    "colab": {},
    "colab_type": "code",
    "id": "Ml_ukXJO8RNa"
   },
   "outputs": [],
   "source": [
    "# preparing the training and the test data\n",
    "len_data=len(images)\n",
    "(x_train,x_test)=images[(int)(0.2*len_data):],images[:(int)(0.2*len_data)]\n",
    "x_train = x_train.astype('float32')/255 # As we are working on image data we are normalizing data by divinding 255.\n",
    "x_test = x_test.astype('float32')/255\n",
    "train_len=len(x_train)\n",
    "test_len=len(x_test)"
   ]
  },
  {
   "cell_type": "code",
   "execution_count": 0,
   "metadata": {
    "colab": {},
    "colab_type": "code",
    "id": "w76MPYDWEmJQ"
   },
   "outputs": [],
   "source": [
    "(y_train,y_test)=age[(int)(0.2*len_data):],age[:(int)(0.2*len_data)]"
   ]
  },
  {
   "cell_type": "code",
   "execution_count": 0,
   "metadata": {
    "colab": {},
    "colab_type": "code",
    "id": "PXM4DipCEINj"
   },
   "outputs": [],
   "source": [
    "# labels for ages\n",
    "y_train1=keras.utils.to_categorical(y_train,num_classes1)\n",
    "y_test1=keras.utils.to_categorical(y_test,num_classes1)"
   ]
  },
  {
   "cell_type": "code",
   "execution_count": 0,
   "metadata": {
    "colab": {},
    "colab_type": "code",
    "id": "NfxAsyvGdSdY"
   },
   "outputs": [],
   "source": [
    "(y_train,y_test)=gender[(int)(0.2*len_data):],gender[:(int)(0.2*len_data)]"
   ]
  },
  {
   "cell_type": "code",
   "execution_count": 0,
   "metadata": {
    "colab": {},
    "colab_type": "code",
    "id": "I4Vl6kIRc1mR"
   },
   "outputs": [],
   "source": [
    "# labels for genders\n",
    "num_classes=2 # genders 0:female 1:male\n",
    "y_train=keras.utils.to_categorical(y_train,num_classes)\n",
    "y_test=keras.utils.to_categorical(y_test,num_classes)"
   ]
  },
  {
   "cell_type": "code",
   "execution_count": 0,
   "metadata": {
    "colab": {},
    "colab_type": "code",
    "id": "7_YGlXtzEecB"
   },
   "outputs": [],
   "source": [
    "# model withour pretrained weights\n",
    "def untrained(num_classes): \n",
    "  model1 = Sequential()\n",
    "  model1.add(Conv2D(input_shape=(128,128,3),filters=64,kernel_size=(3,3),padding=\"same\", activation=\"relu\"))\n",
    "  model1.add(Conv2D(filters=64,kernel_size=(3,3),padding=\"same\", activation=\"relu\"))\n",
    "  model1.add(MaxPool2D(pool_size=(2,2),strides=(2,2)))\n",
    "  model1.add(Conv2D(filters=128, kernel_size=(3,3), padding=\"same\", activation=\"relu\"))\n",
    "  model1.add(Conv2D(filters=128, kernel_size=(3,3), padding=\"same\", activation=\"relu\"))\n",
    "  model1.add(MaxPool2D(pool_size=(2,2),strides=(2,2)))\n",
    "  model1.add(Conv2D(filters=256, kernel_size=(3,3), padding=\"same\", activation=\"relu\"))\n",
    "  model1.add(Conv2D(filters=256, kernel_size=(3,3), padding=\"same\", activation=\"relu\"))\n",
    "  model1.add(Conv2D(filters=256, kernel_size=(3,3), padding=\"same\", activation=\"relu\"))\n",
    "  model1.add(MaxPool2D(pool_size=(2,2),strides=(2,2)))\n",
    "  model1.add(Conv2D(filters=512, kernel_size=(3,3), padding=\"same\", activation=\"relu\"))\n",
    "  model1.add(Conv2D(filters=512, kernel_size=(3,3), padding=\"same\", activation=\"relu\"))\n",
    "  model1.add(Conv2D(filters=512, kernel_size=(3,3), padding=\"same\", activation=\"relu\"))\n",
    "  model1.add(MaxPool2D(pool_size=(2,2),strides=(2,2)))\n",
    "  model1.add(Conv2D(filters=512, kernel_size=(3,3), padding=\"same\", activation=\"relu\"))\n",
    "  model1.add(Conv2D(filters=512, kernel_size=(3,3), padding=\"same\", activation=\"relu\"))\n",
    "  model1.add(Conv2D(filters=512, kernel_size=(3,3), padding=\"same\", activation=\"relu\"))\n",
    "  model1.add(MaxPool2D(pool_size=(2,2),strides=(2,2)))\n",
    "  model1.add(Flatten())\n",
    "  model1.add(Dense(units=4096,activation=\"relu\"))\n",
    "  model1.add(Dense(units=4096,activation=\"relu\"))\n",
    "  model1.add(Dense(units=num_classes, activation=\"softmax\"))\n",
    "\n",
    "  opt = Adam(lr=0.001)\n",
    "  model1.compile(optimizer=opt, loss=keras.losses.categorical_crossentropy, metrics=['accuracy'])\n",
    "  model1.summary()\n",
    "  return model1"
   ]
  },
  {
   "cell_type": "code",
   "execution_count": 168,
   "metadata": {
    "colab": {
     "base_uri": "https://localhost:8080/",
     "height": 890
    },
    "colab_type": "code",
    "id": "bHn7MtUlqimn",
    "outputId": "f2da2bb9-9ffd-4a13-a222-fd57a1c430c5"
   },
   "outputs": [
    {
     "name": "stdout",
     "output_type": "stream",
     "text": [
      "Model: \"sequential_4\"\n",
      "_________________________________________________________________\n",
      "Layer (type)                 Output Shape              Param #   \n",
      "=================================================================\n",
      "conv2d_40 (Conv2D)           (None, 128, 128, 64)      1792      \n",
      "_________________________________________________________________\n",
      "conv2d_41 (Conv2D)           (None, 128, 128, 64)      36928     \n",
      "_________________________________________________________________\n",
      "max_pooling2d_16 (MaxPooling (None, 64, 64, 64)        0         \n",
      "_________________________________________________________________\n",
      "conv2d_42 (Conv2D)           (None, 64, 64, 128)       73856     \n",
      "_________________________________________________________________\n",
      "conv2d_43 (Conv2D)           (None, 64, 64, 128)       147584    \n",
      "_________________________________________________________________\n",
      "max_pooling2d_17 (MaxPooling (None, 32, 32, 128)       0         \n",
      "_________________________________________________________________\n",
      "conv2d_44 (Conv2D)           (None, 32, 32, 256)       295168    \n",
      "_________________________________________________________________\n",
      "conv2d_45 (Conv2D)           (None, 32, 32, 256)       590080    \n",
      "_________________________________________________________________\n",
      "conv2d_46 (Conv2D)           (None, 32, 32, 256)       590080    \n",
      "_________________________________________________________________\n",
      "max_pooling2d_18 (MaxPooling (None, 16, 16, 256)       0         \n",
      "_________________________________________________________________\n",
      "conv2d_47 (Conv2D)           (None, 16, 16, 512)       1180160   \n",
      "_________________________________________________________________\n",
      "conv2d_48 (Conv2D)           (None, 16, 16, 512)       2359808   \n",
      "_________________________________________________________________\n",
      "conv2d_49 (Conv2D)           (None, 16, 16, 512)       2359808   \n",
      "_________________________________________________________________\n",
      "max_pooling2d_19 (MaxPooling (None, 8, 8, 512)         0         \n",
      "_________________________________________________________________\n",
      "conv2d_50 (Conv2D)           (None, 8, 8, 512)         2359808   \n",
      "_________________________________________________________________\n",
      "conv2d_51 (Conv2D)           (None, 8, 8, 512)         2359808   \n",
      "_________________________________________________________________\n",
      "conv2d_52 (Conv2D)           (None, 8, 8, 512)         2359808   \n",
      "_________________________________________________________________\n",
      "max_pooling2d_20 (MaxPooling (None, 4, 4, 512)         0         \n",
      "_________________________________________________________________\n",
      "flatten_7 (Flatten)          (None, 8192)              0         \n",
      "_________________________________________________________________\n",
      "dense_13 (Dense)             (None, 4096)              33558528  \n",
      "_________________________________________________________________\n",
      "dense_14 (Dense)             (None, 4096)              16781312  \n",
      "_________________________________________________________________\n",
      "dense_15 (Dense)             (None, 2)                 8194      \n",
      "=================================================================\n",
      "Total params: 65,062,722\n",
      "Trainable params: 65,062,722\n",
      "Non-trainable params: 0\n",
      "_________________________________________________________________\n"
     ]
    }
   ],
   "source": [
    "model1=untrained(num_classes)"
   ]
  },
  {
   "cell_type": "code",
   "execution_count": 35,
   "metadata": {
    "colab": {
     "base_uri": "https://localhost:8080/",
     "height": 353
    },
    "colab_type": "code",
    "id": "_M8-NHGBF9eY",
    "outputId": "8243ff0c-f488-4b1d-f32a-4673a29e6e0e"
   },
   "outputs": [
    {
     "name": "stdout",
     "output_type": "stream",
     "text": [
      "Epoch 1/10\n",
      "18967/18967 [==============================] - 111s 6ms/step - loss: 0.6927 - accuracy: 0.5230\n",
      "Epoch 2/10\n",
      "18967/18967 [==============================] - 107s 6ms/step - loss: 0.6925 - accuracy: 0.5215\n",
      "Epoch 3/10\n",
      "18967/18967 [==============================] - 107s 6ms/step - loss: 0.6927 - accuracy: 0.5205\n",
      "Epoch 4/10\n",
      "18967/18967 [==============================] - 105s 6ms/step - loss: 0.6930 - accuracy: 0.5198\n",
      "Epoch 5/10\n",
      "18967/18967 [==============================] - 105s 6ms/step - loss: 0.6929 - accuracy: 0.5133\n",
      "Epoch 6/10\n",
      "18967/18967 [==============================] - 105s 6ms/step - loss: 0.6930 - accuracy: 0.5172\n",
      "Epoch 7/10\n",
      "18967/18967 [==============================] - 105s 6ms/step - loss: 0.6926 - accuracy: 0.5182\n",
      "Epoch 8/10\n",
      "18967/18967 [==============================] - 105s 6ms/step - loss: 0.6925 - accuracy: 0.5243\n",
      "Epoch 9/10\n",
      "18967/18967 [==============================] - 105s 6ms/step - loss: 0.6927 - accuracy: 0.5228\n",
      "Epoch 10/10\n",
      "18967/18967 [==============================] - 105s 6ms/step - loss: 0.6926 - accuracy: 0.5236\n"
     ]
    }
   ],
   "source": [
    "hist=model1.fit(x=x_train, y=y_train,batch_size=128, epochs=10, verbose=1)"
   ]
  },
  {
   "cell_type": "code",
   "execution_count": 191,
   "metadata": {
    "colab": {
     "base_uri": "https://localhost:8080/",
     "height": 857
    },
    "colab_type": "code",
    "id": "fohf93FjMmfO",
    "outputId": "1abf735e-3308-4c37-81c1-e79ca41d4a69"
   },
   "outputs": [
    {
     "name": "stdout",
     "output_type": "stream",
     "text": [
      "Model: \"model_4\"\n",
      "_________________________________________________________________\n",
      "Layer (type)                 Output Shape              Param #   \n",
      "=================================================================\n",
      "input_4 (InputLayer)         (None, 128, 128, 3)       0         \n",
      "_________________________________________________________________\n",
      "block1_conv1 (Conv2D)        (None, 128, 128, 64)      1792      \n",
      "_________________________________________________________________\n",
      "block1_conv2 (Conv2D)        (None, 128, 128, 64)      36928     \n",
      "_________________________________________________________________\n",
      "block1_pool (MaxPooling2D)   (None, 64, 64, 64)        0         \n",
      "_________________________________________________________________\n",
      "block2_conv1 (Conv2D)        (None, 64, 64, 128)       73856     \n",
      "_________________________________________________________________\n",
      "block2_conv2 (Conv2D)        (None, 64, 64, 128)       147584    \n",
      "_________________________________________________________________\n",
      "block2_pool (MaxPooling2D)   (None, 32, 32, 128)       0         \n",
      "_________________________________________________________________\n",
      "block3_conv1 (Conv2D)        (None, 32, 32, 256)       295168    \n",
      "_________________________________________________________________\n",
      "block3_conv2 (Conv2D)        (None, 32, 32, 256)       590080    \n",
      "_________________________________________________________________\n",
      "block3_conv3 (Conv2D)        (None, 32, 32, 256)       590080    \n",
      "_________________________________________________________________\n",
      "block3_pool (MaxPooling2D)   (None, 16, 16, 256)       0         \n",
      "_________________________________________________________________\n",
      "block4_conv1 (Conv2D)        (None, 16, 16, 512)       1180160   \n",
      "_________________________________________________________________\n",
      "block4_conv2 (Conv2D)        (None, 16, 16, 512)       2359808   \n",
      "_________________________________________________________________\n",
      "block4_conv3 (Conv2D)        (None, 16, 16, 512)       2359808   \n",
      "_________________________________________________________________\n",
      "block4_pool (MaxPooling2D)   (None, 8, 8, 512)         0         \n",
      "_________________________________________________________________\n",
      "block5_conv1 (Conv2D)        (None, 8, 8, 512)         2359808   \n",
      "_________________________________________________________________\n",
      "block5_conv2 (Conv2D)        (None, 8, 8, 512)         2359808   \n",
      "_________________________________________________________________\n",
      "block5_conv3 (Conv2D)        (None, 8, 8, 512)         2359808   \n",
      "_________________________________________________________________\n",
      "block5_pool (MaxPooling2D)   (None, 4, 4, 512)         0         \n",
      "_________________________________________________________________\n",
      "flatten_9 (Flatten)          (None, 8192)              0         \n",
      "_________________________________________________________________\n",
      "dense_19 (Dense)             (None, 2)                 16386     \n",
      "=================================================================\n",
      "Total params: 14,731,074\n",
      "Trainable params: 16,386\n",
      "Non-trainable params: 14,714,688\n",
      "_________________________________________________________________\n"
     ]
    }
   ],
   "source": [
    "# pretrained vgg16 models for gender prediciton\n",
    "IMAGE_SIZE = [128, 128] \n",
    "\n",
    "# using the VGG16 model but not including the final output layer by using the command (include_top=False).\n",
    "vgg = VGG16(input_shape=IMAGE_SIZE + [3], weights='imagenet', include_top=False)\n",
    "\n",
    "# don't train existing weights\n",
    "for layer in vgg.layers:\n",
    "    layer.trainable = False\n",
    "\n",
    "# additional layers\n",
    "x = Flatten()(vgg.output)\n",
    "prediction = Dense(num_classes, activation='softmax')(x)\n",
    "\n",
    "model = Model(inputs=vgg.input, outputs=prediction)\n",
    "model.summary()"
   ]
  },
  {
   "cell_type": "code",
   "execution_count": 195,
   "metadata": {
    "colab": {
     "base_uri": "https://localhost:8080/",
     "height": 370
    },
    "colab_type": "code",
    "id": "e16cp1bTM3Mp",
    "outputId": "4df4656f-6858-459c-b863-1c4bc899185b"
   },
   "outputs": [
    {
     "name": "stdout",
     "output_type": "stream",
     "text": [
      "Train on 18967 samples, validate on 4741 samples\n",
      "Epoch 1/10\n",
      "18967/18967 [==============================] - 44s 2ms/step - loss: 0.5157 - accuracy: 0.8056 - val_loss: 0.3426 - val_accuracy: 0.8452\n",
      "Epoch 2/10\n",
      "18967/18967 [==============================] - 45s 2ms/step - loss: 0.3004 - accuracy: 0.8745 - val_loss: 0.3072 - val_accuracy: 0.8709\n",
      "Epoch 3/10\n",
      "18967/18967 [==============================] - 45s 2ms/step - loss: 0.2674 - accuracy: 0.8922 - val_loss: 0.2985 - val_accuracy: 0.8764\n",
      "Epoch 4/10\n",
      "18967/18967 [==============================] - 45s 2ms/step - loss: 0.2496 - accuracy: 0.9016 - val_loss: 0.2941 - val_accuracy: 0.8743\n",
      "Epoch 5/10\n",
      "18967/18967 [==============================] - 45s 2ms/step - loss: 0.2426 - accuracy: 0.9027 - val_loss: 0.2944 - val_accuracy: 0.8791\n",
      "Epoch 6/10\n",
      "18967/18967 [==============================] - 45s 2ms/step - loss: 0.2309 - accuracy: 0.9116 - val_loss: 0.3026 - val_accuracy: 0.8728\n",
      "Epoch 7/10\n",
      "18967/18967 [==============================] - 46s 2ms/step - loss: 0.2245 - accuracy: 0.9116 - val_loss: 0.2934 - val_accuracy: 0.8734\n",
      "Epoch 8/10\n",
      "18967/18967 [==============================] - 45s 2ms/step - loss: 0.2142 - accuracy: 0.9196 - val_loss: 0.2977 - val_accuracy: 0.8743\n",
      "Epoch 9/10\n",
      "18967/18967 [==============================] - 45s 2ms/step - loss: 0.2058 - accuracy: 0.9229 - val_loss: 0.2990 - val_accuracy: 0.8758\n",
      "Epoch 10/10\n",
      "18944/18967 [============================>.] - ETA: 0s - loss: 0.2038 - accuracy: 0.9243"
     ]
    }
   ],
   "source": [
    "opt = Adam(lr=0.001)\n",
    "model.compile(optimizer=opt, loss=keras.losses.categorical_crossentropy, metrics=['accuracy'])\n",
    "hist1=model.fit(x=x_train, y=y_train,batch_size=128, epochs=10, verbose=1,validation_data=(x_test,y_test))"
   ]
  },
  {
   "cell_type": "code",
   "execution_count": 55,
   "metadata": {
    "colab": {
     "base_uri": "https://localhost:8080/",
     "height": 388
    },
    "colab_type": "code",
    "id": "cm96Q7WpR8-B",
    "outputId": "43d44731-89e5-418c-b17b-a8d126e1c553"
   },
   "outputs": [
    {
     "data": {
      "image/png": "[encoded data removed]",
      "text/plain": [
       "<Figure size 1152x432 with 2 Axes>"
      ]
     },
     "metadata": {
      "needs_background": "light",
      "tags": []
     },
     "output_type": "display_data"
    }
   ],
   "source": [
    "# loss\n",
    "plt.figure(figsize=(16,6))\n",
    "plt.subplot(1, 2, 1)\n",
    "plt.plot(hist.history['loss'], label='untrained model')\n",
    "plt.plot(hist1.history['loss'], label='trained model')\n",
    "plt.xlabel('epoch')\n",
    "plt.ylabel('loss')\n",
    "plt.legend()\n",
    "\n",
    "# accuracy\n",
    "plt.subplot(1,2,2)\n",
    "plt.plot(hist.history['accuracy'], label='untrained model')\n",
    "plt.plot(hist1.history['accuracy'], label='trained model')\n",
    "plt.xlabel('epoch')\n",
    "plt.ylabel('accuracy')\n",
    "plt.legend()\n",
    "\n",
    "plt.show()"
   ]
  },
  {
   "cell_type": "code",
   "execution_count": 0,
   "metadata": {
    "colab": {},
    "colab_type": "code",
    "id": "r2c1vWcDZyWh"
   },
   "outputs": [],
   "source": [
    "pred_gender=model.predict(x_test)\n",
    "pred=np.argmax(pred_gender,axis=1)"
   ]
  },
  {
   "cell_type": "code",
   "execution_count": 144,
   "metadata": {
    "colab": {
     "base_uri": "https://localhost:8080/",
     "height": 282
    },
    "colab_type": "code",
    "id": "YEUzPkz6ezyR",
    "outputId": "a284a3fb-2b05-44d8-fac5-7e689c0082f3"
   },
   "outputs": [
    {
     "data": {
      "text/plain": [
       "<matplotlib.axes._subplots.AxesSubplot at 0x7fda96c71c18>"
      ]
     },
     "execution_count": 144,
     "metadata": {
      "tags": []
     },
     "output_type": "execute_result"
    },
    {
     "data": {
      "image/png": "[encoded data removed]",
      "text/plain": [
       "<Figure size 432x288 with 1 Axes>"
      ]
     },
     "metadata": {
      "needs_background": "light",
      "tags": []
     },
     "output_type": "display_data"
    }
   ],
   "source": [
    "# seeing the number of each category identified {0:female,1:male}\n",
    "import seaborn as sns\n",
    "sns.countplot(pred)"
   ]
  },
  {
   "cell_type": "code",
   "execution_count": 169,
   "metadata": {
    "colab": {
     "base_uri": "https://localhost:8080/",
     "height": 890
    },
    "colab_type": "code",
    "id": "2z3pqhcrgPjR",
    "outputId": "5ef7bf63-782e-44c0-bab6-96b1f1abec49"
   },
   "outputs": [
    {
     "name": "stdout",
     "output_type": "stream",
     "text": [
      "Model: \"sequential_5\"\n",
      "_________________________________________________________________\n",
      "Layer (type)                 Output Shape              Param #   \n",
      "=================================================================\n",
      "conv2d_53 (Conv2D)           (None, 128, 128, 64)      1792      \n",
      "_________________________________________________________________\n",
      "conv2d_54 (Conv2D)           (None, 128, 128, 64)      36928     \n",
      "_________________________________________________________________\n",
      "max_pooling2d_21 (MaxPooling (None, 64, 64, 64)        0         \n",
      "_________________________________________________________________\n",
      "conv2d_55 (Conv2D)           (None, 64, 64, 128)       73856     \n",
      "_________________________________________________________________\n",
      "conv2d_56 (Conv2D)           (None, 64, 64, 128)       147584    \n",
      "_________________________________________________________________\n",
      "max_pooling2d_22 (MaxPooling (None, 32, 32, 128)       0         \n",
      "_________________________________________________________________\n",
      "conv2d_57 (Conv2D)           (None, 32, 32, 256)       295168    \n",
      "_________________________________________________________________\n",
      "conv2d_58 (Conv2D)           (None, 32, 32, 256)       590080    \n",
      "_________________________________________________________________\n",
      "conv2d_59 (Conv2D)           (None, 32, 32, 256)       590080    \n",
      "_________________________________________________________________\n",
      "max_pooling2d_23 (MaxPooling (None, 16, 16, 256)       0         \n",
      "_________________________________________________________________\n",
      "conv2d_60 (Conv2D)           (None, 16, 16, 512)       1180160   \n",
      "_________________________________________________________________\n",
      "conv2d_61 (Conv2D)           (None, 16, 16, 512)       2359808   \n",
      "_________________________________________________________________\n",
      "conv2d_62 (Conv2D)           (None, 16, 16, 512)       2359808   \n",
      "_________________________________________________________________\n",
      "max_pooling2d_24 (MaxPooling (None, 8, 8, 512)         0         \n",
      "_________________________________________________________________\n",
      "conv2d_63 (Conv2D)           (None, 8, 8, 512)         2359808   \n",
      "_________________________________________________________________\n",
      "conv2d_64 (Conv2D)           (None, 8, 8, 512)         2359808   \n",
      "_________________________________________________________________\n",
      "conv2d_65 (Conv2D)           (None, 8, 8, 512)         2359808   \n",
      "_________________________________________________________________\n",
      "max_pooling2d_25 (MaxPooling (None, 4, 4, 512)         0         \n",
      "_________________________________________________________________\n",
      "flatten_8 (Flatten)          (None, 8192)              0         \n",
      "_________________________________________________________________\n",
      "dense_16 (Dense)             (None, 4096)              33558528  \n",
      "_________________________________________________________________\n",
      "dense_17 (Dense)             (None, 4096)              16781312  \n",
      "_________________________________________________________________\n",
      "dense_18 (Dense)             (None, 117)               479349    \n",
      "=================================================================\n",
      "Total params: 65,533,877\n",
      "Trainable params: 65,533,877\n",
      "Non-trainable params: 0\n",
      "_________________________________________________________________\n"
     ]
    }
   ],
   "source": [
    "model1=untrained(num_classes1)"
   ]
  },
  {
   "cell_type": "code",
   "execution_count": 148,
   "metadata": {
    "colab": {
     "base_uri": "https://localhost:8080/",
     "height": 353
    },
    "colab_type": "code",
    "id": "ywXN7IvdgPfw",
    "outputId": "79eacc3f-fd85-456a-8a19-0f5865ad33e7"
   },
   "outputs": [
    {
     "name": "stdout",
     "output_type": "stream",
     "text": [
      "Epoch 1/10\n",
      "18967/18967 [==============================] - 105s 6ms/step - loss: 4.1665 - accuracy: 0.0840\n",
      "Epoch 2/10\n",
      "18967/18967 [==============================] - 105s 6ms/step - loss: 4.0842 - accuracy: 0.0901\n",
      "Epoch 3/10\n",
      "18967/18967 [==============================] - 106s 6ms/step - loss: 4.0784 - accuracy: 0.0901\n",
      "Epoch 4/10\n",
      "18967/18967 [==============================] - 106s 6ms/step - loss: 4.0770 - accuracy: 0.0901\n",
      "Epoch 5/10\n",
      "18967/18967 [==============================] - 106s 6ms/step - loss: 4.0762 - accuracy: 0.0901\n",
      "Epoch 6/10\n",
      "18967/18967 [==============================] - 106s 6ms/step - loss: 4.0753 - accuracy: 0.0901\n",
      "Epoch 7/10\n",
      "18967/18967 [==============================] - 106s 6ms/step - loss: 4.0743 - accuracy: 0.0901\n",
      "Epoch 8/10\n",
      "18967/18967 [==============================] - 106s 6ms/step - loss: 4.0726 - accuracy: 0.0901\n",
      "Epoch 9/10\n",
      "18967/18967 [==============================] - 106s 6ms/step - loss: 4.0733 - accuracy: 0.0901\n",
      "Epoch 10/10\n",
      "18967/18967 [==============================] - 105s 6ms/step - loss: 4.0735 - accuracy: 0.0901\n"
     ]
    }
   ],
   "source": [
    "hist=model1.fit(x=x_train, y=y_train1,batch_size=128, epochs=10, verbose=1)"
   ]
  },
  {
   "cell_type": "code",
   "execution_count": 15,
   "metadata": {
    "colab": {
     "base_uri": "https://localhost:8080/",
     "height": 857
    },
    "colab_type": "code",
    "id": "o1SM_RJbgPJt",
    "outputId": "1d9f0635-45b7-44d5-af5e-1c7db0d3f974"
   },
   "outputs": [
    {
     "name": "stdout",
     "output_type": "stream",
     "text": [
      "Model: \"model_1\"\n",
      "_________________________________________________________________\n",
      "Layer (type)                 Output Shape              Param #   \n",
      "=================================================================\n",
      "input_1 (InputLayer)         (None, 128, 128, 3)       0         \n",
      "_________________________________________________________________\n",
      "block1_conv1 (Conv2D)        (None, 128, 128, 64)      1792      \n",
      "_________________________________________________________________\n",
      "block1_conv2 (Conv2D)        (None, 128, 128, 64)      36928     \n",
      "_________________________________________________________________\n",
      "block1_pool (MaxPooling2D)   (None, 64, 64, 64)        0         \n",
      "_________________________________________________________________\n",
      "block2_conv1 (Conv2D)        (None, 64, 64, 128)       73856     \n",
      "_________________________________________________________________\n",
      "block2_conv2 (Conv2D)        (None, 64, 64, 128)       147584    \n",
      "_________________________________________________________________\n",
      "block2_pool (MaxPooling2D)   (None, 32, 32, 128)       0         \n",
      "_________________________________________________________________\n",
      "block3_conv1 (Conv2D)        (None, 32, 32, 256)       295168    \n",
      "_________________________________________________________________\n",
      "block3_conv2 (Conv2D)        (None, 32, 32, 256)       590080    \n",
      "_________________________________________________________________\n",
      "block3_conv3 (Conv2D)        (None, 32, 32, 256)       590080    \n",
      "_________________________________________________________________\n",
      "block3_pool (MaxPooling2D)   (None, 16, 16, 256)       0         \n",
      "_________________________________________________________________\n",
      "block4_conv1 (Conv2D)        (None, 16, 16, 512)       1180160   \n",
      "_________________________________________________________________\n",
      "block4_conv2 (Conv2D)        (None, 16, 16, 512)       2359808   \n",
      "_________________________________________________________________\n",
      "block4_conv3 (Conv2D)        (None, 16, 16, 512)       2359808   \n",
      "_________________________________________________________________\n",
      "block4_pool (MaxPooling2D)   (None, 8, 8, 512)         0         \n",
      "_________________________________________________________________\n",
      "block5_conv1 (Conv2D)        (None, 8, 8, 512)         2359808   \n",
      "_________________________________________________________________\n",
      "block5_conv2 (Conv2D)        (None, 8, 8, 512)         2359808   \n",
      "_________________________________________________________________\n",
      "block5_conv3 (Conv2D)        (None, 8, 8, 512)         2359808   \n",
      "_________________________________________________________________\n",
      "block5_pool (MaxPooling2D)   (None, 4, 4, 512)         0         \n",
      "_________________________________________________________________\n",
      "flatten_1 (Flatten)          (None, 8192)              0         \n",
      "_________________________________________________________________\n",
      "dense_1 (Dense)              (None, 117)               958581    \n",
      "=================================================================\n",
      "Total params: 15,673,269\n",
      "Trainable params: 958,581\n",
      "Non-trainable params: 14,714,688\n",
      "_________________________________________________________________\n"
     ]
    }
   ],
   "source": [
    "IMAGE_SIZE = [128, 128] \n",
    "\n",
    "# using the VGG16 model but not including the final output layer by using the command (include_top=False).\n",
    "vgg = VGG16(input_shape=IMAGE_SIZE + [3], weights='imagenet', include_top=False)\n",
    "\n",
    "# don't train existing weights\n",
    "for layer in vgg.layers:\n",
    "    layer.trainable = False\n",
    "\n",
    "# additional layers\n",
    "x = Flatten()(vgg.output)\n",
    "prediction = Dense(num_classes1, activation='softmax')(x)\n",
    "model = Model(inputs=vgg.input, outputs=prediction)\n",
    "model.summary()"
   ]
  },
  {
   "cell_type": "code",
   "execution_count": 21,
   "metadata": {
    "colab": {
     "base_uri": "https://localhost:8080/",
     "height": 706
    },
    "colab_type": "code",
    "id": "YIvlG7TevS4T",
    "outputId": "e72afd00-0a29-46be-b9eb-0c8145b69842"
   },
   "outputs": [
    {
     "name": "stdout",
     "output_type": "stream",
     "text": [
      "Train on 21338 samples, validate on 2370 samples\n",
      "Epoch 1/20\n",
      "21338/21338 [==============================] - 50s 2ms/step - loss: 5.8267 - accuracy: 0.1664 - val_loss: 6.4904 - val_accuracy: 0.0954\n",
      "Epoch 2/20\n",
      "21338/21338 [==============================] - 45s 2ms/step - loss: 3.2482 - accuracy: 0.3113 - val_loss: 6.4561 - val_accuracy: 0.1304\n",
      "Epoch 3/20\n",
      "21338/21338 [==============================] - 47s 2ms/step - loss: 2.6397 - accuracy: 0.4060 - val_loss: 7.0424 - val_accuracy: 0.0907\n",
      "Epoch 4/20\n",
      "21338/21338 [==============================] - 46s 2ms/step - loss: 2.3216 - accuracy: 0.4652 - val_loss: 6.9637 - val_accuracy: 0.1274\n",
      "Epoch 5/20\n",
      "21338/21338 [==============================] - 47s 2ms/step - loss: 1.9585 - accuracy: 0.5350 - val_loss: 8.0968 - val_accuracy: 0.1004\n",
      "Epoch 6/20\n",
      "21338/21338 [==============================] - 46s 2ms/step - loss: 1.6657 - accuracy: 0.5749 - val_loss: 7.8337 - val_accuracy: 0.1046\n",
      "Epoch 7/20\n",
      "21338/21338 [==============================] - 48s 2ms/step - loss: 1.4569 - accuracy: 0.6277 - val_loss: 8.3346 - val_accuracy: 0.1177\n",
      "Epoch 8/20\n",
      "21338/21338 [==============================] - 46s 2ms/step - loss: 1.3223 - accuracy: 0.6643 - val_loss: 8.6876 - val_accuracy: 0.1118\n",
      "Epoch 9/20\n",
      "21338/21338 [==============================] - 48s 2ms/step - loss: 1.2010 - accuracy: 0.6915 - val_loss: 8.8989 - val_accuracy: 0.1072\n",
      "Epoch 10/20\n",
      "21338/21338 [==============================] - 46s 2ms/step - loss: 1.1503 - accuracy: 0.7096 - val_loss: 9.2510 - val_accuracy: 0.1105\n",
      "Epoch 11/20\n",
      "21338/21338 [==============================] - 46s 2ms/step - loss: 1.0219 - accuracy: 0.7307 - val_loss: 9.2442 - val_accuracy: 0.1283\n",
      "Epoch 12/20\n",
      "21338/21338 [==============================] - 46s 2ms/step - loss: 0.9877 - accuracy: 0.7485 - val_loss: 9.8484 - val_accuracy: 0.1304\n",
      "Epoch 13/20\n",
      "21338/21338 [==============================] - 47s 2ms/step - loss: 0.9747 - accuracy: 0.7587 - val_loss: 9.6508 - val_accuracy: 0.1148\n",
      "Epoch 14/20\n",
      "21338/21338 [==============================] - 47s 2ms/step - loss: 0.9725 - accuracy: 0.7623 - val_loss: 10.5756 - val_accuracy: 0.1072\n",
      "Epoch 15/20\n",
      "21338/21338 [==============================] - 49s 2ms/step - loss: 0.9758 - accuracy: 0.7611 - val_loss: 10.7354 - val_accuracy: 0.1236\n",
      "Epoch 16/20\n",
      "21338/21338 [==============================] - 46s 2ms/step - loss: 0.7859 - accuracy: 0.7987 - val_loss: 10.8233 - val_accuracy: 0.1190\n",
      "Epoch 17/20\n",
      "21338/21338 [==============================] - 46s 2ms/step - loss: 0.7556 - accuracy: 0.8125 - val_loss: 11.1887 - val_accuracy: 0.1114\n",
      "Epoch 18/20\n",
      "21338/21338 [==============================] - 46s 2ms/step - loss: 0.8809 - accuracy: 0.7958 - val_loss: 12.1527 - val_accuracy: 0.1257\n",
      "Epoch 19/20\n",
      "21338/21338 [==============================] - 47s 2ms/step - loss: 0.8261 - accuracy: 0.8072 - val_loss: 11.8857 - val_accuracy: 0.1008\n",
      "Epoch 20/20\n",
      "21338/21338 [==============================] - 47s 2ms/step - loss: 0.8052 - accuracy: 0.8216 - val_loss: 12.1222 - val_accuracy: 0.1030\n"
     ]
    }
   ],
   "source": [
    "opt = Adam(lr=0.01)\n",
    "model.compile(optimizer=opt, loss=keras.losses.categorical_crossentropy, metrics=['accuracy'])\n",
    "hist1=model.fit(x=x_train, y=y_train1,batch_size=128, epochs=20, verbose=1,validation_data=(x_test,y_test1))"
   ]
  },
  {
   "cell_type": "code",
   "execution_count": 154,
   "metadata": {
    "colab": {
     "base_uri": "https://localhost:8080/",
     "height": 404
    },
    "colab_type": "code",
    "id": "4eN2dworgPDV",
    "outputId": "68541754-5338-4ffd-92e4-abe4bb9cc0ac"
   },
   "outputs": [
    {
     "data": {
      "image/png": "[encoded data removed]",
      "text/plain": [
       "<Figure size 1152x432 with 2 Axes>"
      ]
     },
     "metadata": {
      "needs_background": "light",
      "tags": []
     },
     "output_type": "display_data"
    }
   ],
   "source": [
    "# loss\n",
    "plt.figure(figsize=(16,6))\n",
    "plt.subplot(1, 2, 1)\n",
    "plt.plot(hist.history['loss'], label='untrained model')\n",
    "plt.plot(hist1.history['loss'], label='trained model')\n",
    "plt.xlabel('epoch')\n",
    "plt.ylabel('loss')\n",
    "plt.legend()\n",
    "plt.title('Age Prediction')\n",
    "\n",
    "# accuracy\n",
    "plt.subplot(1,2,2)\n",
    "plt.plot(hist.history['accuracy'], label='untrained model')\n",
    "plt.plot(hist1.history['accuracy'], label='trained model')\n",
    "plt.xlabel('epoch')\n",
    "plt.ylabel('accuracy')\n",
    "plt.legend()\n",
    "plt.title('Age Prediction')\n",
    "plt.show()"
   ]
  },
  {
   "cell_type": "code",
   "execution_count": 33,
   "metadata": {
    "colab": {
     "base_uri": "https://localhost:8080/",
     "height": 507
    },
    "colab_type": "code",
    "id": "j8gmppVq7GUn",
    "outputId": "208f8205-e155-4804-bd91-45503a9d4c5c",
    "scrolled": true
   },
   "outputs": [
    {
     "data": {
      "image/png": "[encoded data removed]",
      "text/plain": [
       "<Figure size 1440x504 with 1 Axes>"
      ]
     },
     "metadata": {
      "needs_background": "light",
      "tags": []
     },
     "output_type": "display_data"
    }
   ],
   "source": [
    "# the distribution of the original validation dataset\n",
    "plt.figure(figsize=(20,7))\n",
    "sns.countplot(y_test).set_title(\"Age Prediction\")\n",
    "plt.tight_layout()"
   ]
  },
  {
   "cell_type": "code",
   "execution_count": 29,
   "metadata": {
    "colab": {
     "base_uri": "https://localhost:8080/",
     "height": 507
    },
    "colab_type": "code",
    "id": "Kq0ttoW5pGmh",
    "outputId": "fbe7cf66-6b7a-4373-ee13-d00c7fa8dadd"
   },
   "outputs": [
    {
     "data": {
      "image/png": "[encoded data removed]",
      "text/plain": [
       "<Figure size 1440x504 with 1 Axes>"
      ]
     },
     "metadata": {
      "needs_background": "light",
      "tags": []
     },
     "output_type": "display_data"
    }
   ],
   "source": [
    "# predicted age distribution by the model on the validation set.\n",
    "pred=model.predict(x_test)\n",
    "pred=np.argmax(pred,axis=1)\n",
    "plt.figure(figsize=(20,7))\n",
    "sns.countplot(pred).set_title(\"Age Prediction\")\n",
    "plt.tight_layout()"
   ]
  },
  {
   "cell_type": "code",
   "execution_count": 80,
   "metadata": {
    "colab": {
     "base_uri": "https://localhost:8080/",
     "height": 1000
    },
    "colab_type": "code",
    "id": "m-2zQ4C2WjvD",
    "outputId": "c61dc0a9-be2d-45ac-b6cf-7f2a3eaba929"
   },
   "outputs": [
    {
     "data": {
      "image/png": "[encoded data removed]",
      "text/plain": [
       "<IPython.core.display.Image object>"
      ]
     },
     "execution_count": 80,
     "metadata": {
      "tags": []
     },
     "output_type": "execute_result"
    }
   ],
   "source": [
    "# model image.\n",
    "keras.utils.plot_model(model, to_file='model.png', show_shapes=False, show_layer_names=True, rankdir='TB', expand_nested=False, dpi=96)"
   ]
  },
  {
   "cell_type": "code",
   "execution_count": 0,
   "metadata": {
    "colab": {},
    "colab_type": "code",
    "id": "IoUGeCpCgsQ_"
   },
   "outputs": [],
   "source": []
  }
 ],
 "metadata": {
  "accelerator": "GPU",
  "colab": {
   "name": "Age_Gender.ipynb",
   "provenance": []
  },
  "kernelspec": {
   "display_name": "Python 3",
   "language": "python",
   "name": "python3"
  },
  "language_info": {
   "codemirror_mode": {
    "name": "ipython",
    "version": 3
   },
   "file_extension": ".py",
   "mimetype": "text/x-python",
   "name": "python",
   "nbconvert_exporter": "python",
   "pygments_lexer": "ipython3",
   "version": "3.7.4"
  }
 },
 "nbformat": 4,
 "nbformat_minor": 1
}
